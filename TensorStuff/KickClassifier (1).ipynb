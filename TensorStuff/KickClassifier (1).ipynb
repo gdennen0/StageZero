{
 "cells": [
  {
   "cell_type": "code",
   "execution_count": 12,
   "id": "2ed9bdce-01e2-4a21-adac-976e503a8382",
   "metadata": {},
   "outputs": [
    {
     "name": "stdout",
     "output_type": "stream",
     "text": [
      "Requirement already satisfied: jupyter in c:\\users\\dakota\\desktop\\personal projects\\coding\\python\\stage_zero\\kick classifier\\ac-venv\\lib\\site-packages (1.0.0)\n",
      "Requirement already satisfied: notebook in c:\\users\\dakota\\desktop\\personal projects\\coding\\python\\stage_zero\\kick classifier\\ac-venv\\lib\\site-packages (7.0.7)\n",
      "Requirement already satisfied: ipywidgets in c:\\users\\dakota\\desktop\\personal projects\\coding\\python\\stage_zero\\kick classifier\\ac-venv\\lib\\site-packages (from jupyter) (8.1.1)\n",
      "Requirement already satisfied: nbconvert in c:\\users\\dakota\\desktop\\personal projects\\coding\\python\\stage_zero\\kick classifier\\ac-venv\\lib\\site-packages (from jupyter) (7.14.2)\n",
      "Requirement already satisfied: qtconsole in c:\\users\\dakota\\desktop\\personal projects\\coding\\python\\stage_zero\\kick classifier\\ac-venv\\lib\\site-packages (from jupyter) (5.5.1)\n",
      "Requirement already satisfied: jupyter-console in c:\\users\\dakota\\desktop\\personal projects\\coding\\python\\stage_zero\\kick classifier\\ac-venv\\lib\\site-packages (from jupyter) (6.6.3)\n",
      "Requirement already satisfied: ipykernel in c:\\users\\dakota\\desktop\\personal projects\\coding\\python\\stage_zero\\kick classifier\\ac-venv\\lib\\site-packages (from jupyter) (6.29.0)\n",
      "Requirement already satisfied: notebook-shim<0.3,>=0.2 in c:\\users\\dakota\\desktop\\personal projects\\coding\\python\\stage_zero\\kick classifier\\ac-venv\\lib\\site-packages (from notebook) (0.2.3)\n",
      "Requirement already satisfied: jupyter-server<3,>=2.4.0 in c:\\users\\dakota\\desktop\\personal projects\\coding\\python\\stage_zero\\kick classifier\\ac-venv\\lib\\site-packages (from notebook) (2.12.5)\n",
      "Requirement already satisfied: jupyterlab-server<3,>=2.22.1 in c:\\users\\dakota\\desktop\\personal projects\\coding\\python\\stage_zero\\kick classifier\\ac-venv\\lib\\site-packages (from notebook) (2.25.2)\n",
      "Requirement already satisfied: jupyterlab<5,>=4.0.2 in c:\\users\\dakota\\desktop\\personal projects\\coding\\python\\stage_zero\\kick classifier\\ac-venv\\lib\\site-packages (from notebook) (4.0.11)\n",
      "Requirement already satisfied: tornado>=6.2.0 in c:\\users\\dakota\\desktop\\personal projects\\coding\\python\\stage_zero\\kick classifier\\ac-venv\\lib\\site-packages (from notebook) (6.4)\n",
      "Requirement already satisfied: jupyterlab-widgets~=3.0.9 in c:\\users\\dakota\\desktop\\personal projects\\coding\\python\\stage_zero\\kick classifier\\ac-venv\\lib\\site-packages (from ipywidgets->jupyter) (3.0.9)\n",
      "Requirement already satisfied: comm>=0.1.3 in c:\\users\\dakota\\desktop\\personal projects\\coding\\python\\stage_zero\\kick classifier\\ac-venv\\lib\\site-packages (from ipywidgets->jupyter) (0.2.1)\n",
      "Requirement already satisfied: ipython>=6.1.0 in c:\\users\\dakota\\desktop\\personal projects\\coding\\python\\stage_zero\\kick classifier\\ac-venv\\lib\\site-packages (from ipywidgets->jupyter) (8.18.1)\n",
      "Requirement already satisfied: widgetsnbextension~=4.0.9 in c:\\users\\dakota\\desktop\\personal projects\\coding\\python\\stage_zero\\kick classifier\\ac-venv\\lib\\site-packages (from ipywidgets->jupyter) (4.0.9)\n",
      "Requirement already satisfied: traitlets>=4.3.1 in c:\\users\\dakota\\desktop\\personal projects\\coding\\python\\stage_zero\\kick classifier\\ac-venv\\lib\\site-packages (from ipywidgets->jupyter) (5.14.1)\n",
      "Requirement already satisfied: bleach!=5.0.0 in c:\\users\\dakota\\desktop\\personal projects\\coding\\python\\stage_zero\\kick classifier\\ac-venv\\lib\\site-packages (from nbconvert->jupyter) (6.1.0)\n",
      "Requirement already satisfied: tinycss2 in c:\\users\\dakota\\desktop\\personal projects\\coding\\python\\stage_zero\\kick classifier\\ac-venv\\lib\\site-packages (from nbconvert->jupyter) (1.2.1)\n",
      "Requirement already satisfied: jupyterlab-pygments in c:\\users\\dakota\\desktop\\personal projects\\coding\\python\\stage_zero\\kick classifier\\ac-venv\\lib\\site-packages (from nbconvert->jupyter) (0.3.0)\n",
      "Requirement already satisfied: importlib-metadata>=3.6; python_version < \"3.10\" in c:\\users\\dakota\\desktop\\personal projects\\coding\\python\\stage_zero\\kick classifier\\ac-venv\\lib\\site-packages (from nbconvert->jupyter) (7.0.1)\n",
      "Requirement already satisfied: defusedxml in c:\\users\\dakota\\desktop\\personal projects\\coding\\python\\stage_zero\\kick classifier\\ac-venv\\lib\\site-packages (from nbconvert->jupyter) (0.7.1)\n",
      "Requirement already satisfied: jinja2>=3.0 in c:\\users\\dakota\\desktop\\personal projects\\coding\\python\\stage_zero\\kick classifier\\ac-venv\\lib\\site-packages (from nbconvert->jupyter) (3.1.3)\n",
      "Requirement already satisfied: mistune<4,>=2.0.3 in c:\\users\\dakota\\desktop\\personal projects\\coding\\python\\stage_zero\\kick classifier\\ac-venv\\lib\\site-packages (from nbconvert->jupyter) (3.0.2)\n",
      "Requirement already satisfied: beautifulsoup4 in c:\\users\\dakota\\desktop\\personal projects\\coding\\python\\stage_zero\\kick classifier\\ac-venv\\lib\\site-packages (from nbconvert->jupyter) (4.12.3)\n",
      "Requirement already satisfied: markupsafe>=2.0 in c:\\users\\dakota\\desktop\\personal projects\\coding\\python\\stage_zero\\kick classifier\\ac-venv\\lib\\site-packages (from nbconvert->jupyter) (2.1.4)\n",
      "Requirement already satisfied: nbformat>=5.7 in c:\\users\\dakota\\desktop\\personal projects\\coding\\python\\stage_zero\\kick classifier\\ac-venv\\lib\\site-packages (from nbconvert->jupyter) (5.9.2)\n",
      "Requirement already satisfied: pandocfilters>=1.4.1 in c:\\users\\dakota\\desktop\\personal projects\\coding\\python\\stage_zero\\kick classifier\\ac-venv\\lib\\site-packages (from nbconvert->jupyter) (1.5.1)\n",
      "Requirement already satisfied: pygments>=2.4.1 in c:\\users\\dakota\\desktop\\personal projects\\coding\\python\\stage_zero\\kick classifier\\ac-venv\\lib\\site-packages (from nbconvert->jupyter) (2.17.2)\n",
      "Requirement already satisfied: nbclient>=0.5.0 in c:\\users\\dakota\\desktop\\personal projects\\coding\\python\\stage_zero\\kick classifier\\ac-venv\\lib\\site-packages (from nbconvert->jupyter) (0.9.0)\n",
      "Requirement already satisfied: jupyter-core>=4.7 in c:\\users\\dakota\\desktop\\personal projects\\coding\\python\\stage_zero\\kick classifier\\ac-venv\\lib\\site-packages (from nbconvert->jupyter) (5.7.1)\n",
      "Requirement already satisfied: packaging in c:\\users\\dakota\\desktop\\personal projects\\coding\\python\\stage_zero\\kick classifier\\ac-venv\\lib\\site-packages (from nbconvert->jupyter) (23.2)\n",
      "Requirement already satisfied: qtpy>=2.4.0 in c:\\users\\dakota\\desktop\\personal projects\\coding\\python\\stage_zero\\kick classifier\\ac-venv\\lib\\site-packages (from qtconsole->jupyter) (2.4.1)\n",
      "Requirement already satisfied: pyzmq>=17.1 in c:\\users\\dakota\\desktop\\personal projects\\coding\\python\\stage_zero\\kick classifier\\ac-venv\\lib\\site-packages (from qtconsole->jupyter) (25.1.2)\n",
      "Requirement already satisfied: jupyter-client>=4.1 in c:\\users\\dakota\\desktop\\personal projects\\coding\\python\\stage_zero\\kick classifier\\ac-venv\\lib\\site-packages (from qtconsole->jupyter) (8.6.0)\n",
      "Requirement already satisfied: prompt-toolkit>=3.0.30 in c:\\users\\dakota\\desktop\\personal projects\\coding\\python\\stage_zero\\kick classifier\\ac-venv\\lib\\site-packages (from jupyter-console->jupyter) (3.0.43)\n",
      "Requirement already satisfied: psutil in c:\\users\\dakota\\desktop\\personal projects\\coding\\python\\stage_zero\\kick classifier\\ac-venv\\lib\\site-packages (from ipykernel->jupyter) (5.9.8)\n",
      "Requirement already satisfied: debugpy>=1.6.5 in c:\\users\\dakota\\desktop\\personal projects\\coding\\python\\stage_zero\\kick classifier\\ac-venv\\lib\\site-packages (from ipykernel->jupyter) (1.8.0)\n",
      "Requirement already satisfied: nest-asyncio in c:\\users\\dakota\\desktop\\personal projects\\coding\\python\\stage_zero\\kick classifier\\ac-venv\\lib\\site-packages (from ipykernel->jupyter) (1.5.9)\n",
      "Requirement already satisfied: matplotlib-inline>=0.1 in c:\\users\\dakota\\desktop\\personal projects\\coding\\python\\stage_zero\\kick classifier\\ac-venv\\lib\\site-packages (from ipykernel->jupyter) (0.1.6)\n",
      "Requirement already satisfied: websocket-client in c:\\users\\dakota\\desktop\\personal projects\\coding\\python\\stage_zero\\kick classifier\\ac-venv\\lib\\site-packages (from jupyter-server<3,>=2.4.0->notebook) (1.7.0)\n",
      "Requirement already satisfied: argon2-cffi in c:\\users\\dakota\\desktop\\personal projects\\coding\\python\\stage_zero\\kick classifier\\ac-venv\\lib\\site-packages (from jupyter-server<3,>=2.4.0->notebook) (23.1.0)\n",
      "Requirement already satisfied: send2trash>=1.8.2 in c:\\users\\dakota\\desktop\\personal projects\\coding\\python\\stage_zero\\kick classifier\\ac-venv\\lib\\site-packages (from jupyter-server<3,>=2.4.0->notebook) (1.8.2)\n",
      "Requirement already satisfied: terminado>=0.8.3 in c:\\users\\dakota\\desktop\\personal projects\\coding\\python\\stage_zero\\kick classifier\\ac-venv\\lib\\site-packages (from jupyter-server<3,>=2.4.0->notebook) (0.18.0)\n",
      "Requirement already satisfied: jupyter-events>=0.9.0 in c:\\users\\dakota\\desktop\\personal projects\\coding\\python\\stage_zero\\kick classifier\\ac-venv\\lib\\site-packages (from jupyter-server<3,>=2.4.0->notebook) (0.9.0)\n",
      "Requirement already satisfied: jupyter-server-terminals in c:\\users\\dakota\\desktop\\personal projects\\coding\\python\\stage_zero\\kick classifier\\ac-venv\\lib\\site-packages (from jupyter-server<3,>=2.4.0->notebook) (0.5.1)\n",
      "Requirement already satisfied: overrides in c:\\users\\dakota\\desktop\\personal projects\\coding\\python\\stage_zero\\kick classifier\\ac-venv\\lib\\site-packages (from jupyter-server<3,>=2.4.0->notebook) (7.5.0)\n",
      "Requirement already satisfied: prometheus-client in c:\\users\\dakota\\desktop\\personal projects\\coding\\python\\stage_zero\\kick classifier\\ac-venv\\lib\\site-packages (from jupyter-server<3,>=2.4.0->notebook) (0.19.0)\n",
      "Requirement already satisfied: pywinpty; os_name == \"nt\" in c:\\users\\dakota\\desktop\\personal projects\\coding\\python\\stage_zero\\kick classifier\\ac-venv\\lib\\site-packages (from jupyter-server<3,>=2.4.0->notebook) (2.0.12)\n",
      "Requirement already satisfied: anyio>=3.1.0 in c:\\users\\dakota\\desktop\\personal projects\\coding\\python\\stage_zero\\kick classifier\\ac-venv\\lib\\site-packages (from jupyter-server<3,>=2.4.0->notebook) (4.2.0)\n",
      "Requirement already satisfied: babel>=2.10 in c:\\users\\dakota\\desktop\\personal projects\\coding\\python\\stage_zero\\kick classifier\\ac-venv\\lib\\site-packages (from jupyterlab-server<3,>=2.22.1->notebook) (2.14.0)\n",
      "Requirement already satisfied: requests>=2.31 in c:\\users\\dakota\\desktop\\personal projects\\coding\\python\\stage_zero\\kick classifier\\ac-venv\\lib\\site-packages (from jupyterlab-server<3,>=2.22.1->notebook) (2.31.0)\n",
      "Requirement already satisfied: json5>=0.9.0 in c:\\users\\dakota\\desktop\\personal projects\\coding\\python\\stage_zero\\kick classifier\\ac-venv\\lib\\site-packages (from jupyterlab-server<3,>=2.22.1->notebook) (0.9.14)\n",
      "Requirement already satisfied: jsonschema>=4.18.0 in c:\\users\\dakota\\desktop\\personal projects\\coding\\python\\stage_zero\\kick classifier\\ac-venv\\lib\\site-packages (from jupyterlab-server<3,>=2.22.1->notebook) (4.21.1)\n",
      "Requirement already satisfied: tomli; python_version < \"3.11\" in c:\\users\\dakota\\desktop\\personal projects\\coding\\python\\stage_zero\\kick classifier\\ac-venv\\lib\\site-packages (from jupyterlab<5,>=4.0.2->notebook) (2.0.1)\n",
      "Requirement already satisfied: jupyter-lsp>=2.0.0 in c:\\users\\dakota\\desktop\\personal projects\\coding\\python\\stage_zero\\kick classifier\\ac-venv\\lib\\site-packages (from jupyterlab<5,>=4.0.2->notebook) (2.2.2)\n",
      "Requirement already satisfied: async-lru>=1.0.0 in c:\\users\\dakota\\desktop\\personal projects\\coding\\python\\stage_zero\\kick classifier\\ac-venv\\lib\\site-packages (from jupyterlab<5,>=4.0.2->notebook) (2.0.4)\n",
      "Requirement already satisfied: decorator in c:\\users\\dakota\\desktop\\personal projects\\coding\\python\\stage_zero\\kick classifier\\ac-venv\\lib\\site-packages (from ipython>=6.1.0->ipywidgets->jupyter) (5.1.1)\n",
      "Requirement already satisfied: jedi>=0.16 in c:\\users\\dakota\\desktop\\personal projects\\coding\\python\\stage_zero\\kick classifier\\ac-venv\\lib\\site-packages (from ipython>=6.1.0->ipywidgets->jupyter) (0.19.1)\n",
      "Requirement already satisfied: colorama; sys_platform == \"win32\" in c:\\users\\dakota\\desktop\\personal projects\\coding\\python\\stage_zero\\kick classifier\\ac-venv\\lib\\site-packages (from ipython>=6.1.0->ipywidgets->jupyter) (0.4.6)\n",
      "Requirement already satisfied: stack-data in c:\\users\\dakota\\desktop\\personal projects\\coding\\python\\stage_zero\\kick classifier\\ac-venv\\lib\\site-packages (from ipython>=6.1.0->ipywidgets->jupyter) (0.6.3)\n",
      "Requirement already satisfied: exceptiongroup; python_version < \"3.11\" in c:\\users\\dakota\\desktop\\personal projects\\coding\\python\\stage_zero\\kick classifier\\ac-venv\\lib\\site-packages (from ipython>=6.1.0->ipywidgets->jupyter) (1.2.0)\n",
      "Requirement already satisfied: typing-extensions; python_version < \"3.10\" in c:\\users\\dakota\\desktop\\personal projects\\coding\\python\\stage_zero\\kick classifier\\ac-venv\\lib\\site-packages (from ipython>=6.1.0->ipywidgets->jupyter) (4.9.0)\n",
      "Requirement already satisfied: webencodings in c:\\users\\dakota\\desktop\\personal projects\\coding\\python\\stage_zero\\kick classifier\\ac-venv\\lib\\site-packages (from bleach!=5.0.0->nbconvert->jupyter) (0.5.1)\n",
      "Requirement already satisfied: six>=1.9.0 in c:\\users\\dakota\\desktop\\personal projects\\coding\\python\\stage_zero\\kick classifier\\ac-venv\\lib\\site-packages (from bleach!=5.0.0->nbconvert->jupyter) (1.16.0)\n",
      "Requirement already satisfied: zipp>=0.5 in c:\\users\\dakota\\desktop\\personal projects\\coding\\python\\stage_zero\\kick classifier\\ac-venv\\lib\\site-packages (from importlib-metadata>=3.6; python_version < \"3.10\"->nbconvert->jupyter) (3.17.0)\n",
      "Requirement already satisfied: soupsieve>1.2 in c:\\users\\dakota\\desktop\\personal projects\\coding\\python\\stage_zero\\kick classifier\\ac-venv\\lib\\site-packages (from beautifulsoup4->nbconvert->jupyter) (2.5)\n",
      "Requirement already satisfied: fastjsonschema in c:\\users\\dakota\\desktop\\personal projects\\coding\\python\\stage_zero\\kick classifier\\ac-venv\\lib\\site-packages (from nbformat>=5.7->nbconvert->jupyter) (2.19.1)\n",
      "Requirement already satisfied: pywin32>=300; sys_platform == \"win32\" and platform_python_implementation != \"PyPy\" in c:\\users\\dakota\\desktop\\personal projects\\coding\\python\\stage_zero\\kick classifier\\ac-venv\\lib\\site-packages (from jupyter-core>=4.7->nbconvert->jupyter) (306)\n",
      "Requirement already satisfied: platformdirs>=2.5 in c:\\users\\dakota\\desktop\\personal projects\\coding\\python\\stage_zero\\kick classifier\\ac-venv\\lib\\site-packages (from jupyter-core>=4.7->nbconvert->jupyter) (4.1.0)\n",
      "Requirement already satisfied: python-dateutil>=2.8.2 in c:\\users\\dakota\\desktop\\personal projects\\coding\\python\\stage_zero\\kick classifier\\ac-venv\\lib\\site-packages (from jupyter-client>=4.1->qtconsole->jupyter) (2.8.2)\n",
      "Requirement already satisfied: wcwidth in c:\\users\\dakota\\desktop\\personal projects\\coding\\python\\stage_zero\\kick classifier\\ac-venv\\lib\\site-packages (from prompt-toolkit>=3.0.30->jupyter-console->jupyter) (0.2.13)\n",
      "Requirement already satisfied: argon2-cffi-bindings in c:\\users\\dakota\\desktop\\personal projects\\coding\\python\\stage_zero\\kick classifier\\ac-venv\\lib\\site-packages (from argon2-cffi->jupyter-server<3,>=2.4.0->notebook) (21.2.0)\n",
      "Requirement already satisfied: pyyaml>=5.3 in c:\\users\\dakota\\desktop\\personal projects\\coding\\python\\stage_zero\\kick classifier\\ac-venv\\lib\\site-packages (from jupyter-events>=0.9.0->jupyter-server<3,>=2.4.0->notebook) (6.0.1)\n",
      "Requirement already satisfied: python-json-logger>=2.0.4 in c:\\users\\dakota\\desktop\\personal projects\\coding\\python\\stage_zero\\kick classifier\\ac-venv\\lib\\site-packages (from jupyter-events>=0.9.0->jupyter-server<3,>=2.4.0->notebook) (2.0.7)\n",
      "Requirement already satisfied: rfc3986-validator>=0.1.1 in c:\\users\\dakota\\desktop\\personal projects\\coding\\python\\stage_zero\\kick classifier\\ac-venv\\lib\\site-packages (from jupyter-events>=0.9.0->jupyter-server<3,>=2.4.0->notebook) (0.1.1)\n",
      "Requirement already satisfied: referencing in c:\\users\\dakota\\desktop\\personal projects\\coding\\python\\stage_zero\\kick classifier\\ac-venv\\lib\\site-packages (from jupyter-events>=0.9.0->jupyter-server<3,>=2.4.0->notebook) (0.32.1)\n",
      "Requirement already satisfied: rfc3339-validator in c:\\users\\dakota\\desktop\\personal projects\\coding\\python\\stage_zero\\kick classifier\\ac-venv\\lib\\site-packages (from jupyter-events>=0.9.0->jupyter-server<3,>=2.4.0->notebook) (0.1.4)\n",
      "Requirement already satisfied: idna>=2.8 in c:\\users\\dakota\\desktop\\personal projects\\coding\\python\\stage_zero\\kick classifier\\ac-venv\\lib\\site-packages (from anyio>=3.1.0->jupyter-server<3,>=2.4.0->notebook) (3.6)\n",
      "Requirement already satisfied: sniffio>=1.1 in c:\\users\\dakota\\desktop\\personal projects\\coding\\python\\stage_zero\\kick classifier\\ac-venv\\lib\\site-packages (from anyio>=3.1.0->jupyter-server<3,>=2.4.0->notebook) (1.3.0)\n",
      "Requirement already satisfied: urllib3<3,>=1.21.1 in c:\\users\\dakota\\desktop\\personal projects\\coding\\python\\stage_zero\\kick classifier\\ac-venv\\lib\\site-packages (from requests>=2.31->jupyterlab-server<3,>=2.22.1->notebook) (2.1.0)\n",
      "Requirement already satisfied: certifi>=2017.4.17 in c:\\users\\dakota\\desktop\\personal projects\\coding\\python\\stage_zero\\kick classifier\\ac-venv\\lib\\site-packages (from requests>=2.31->jupyterlab-server<3,>=2.22.1->notebook) (2023.11.17)\n",
      "Requirement already satisfied: charset-normalizer<4,>=2 in c:\\users\\dakota\\desktop\\personal projects\\coding\\python\\stage_zero\\kick classifier\\ac-venv\\lib\\site-packages (from requests>=2.31->jupyterlab-server<3,>=2.22.1->notebook) (3.3.2)\n",
      "Requirement already satisfied: rpds-py>=0.7.1 in c:\\users\\dakota\\desktop\\personal projects\\coding\\python\\stage_zero\\kick classifier\\ac-venv\\lib\\site-packages (from jsonschema>=4.18.0->jupyterlab-server<3,>=2.22.1->notebook) (0.17.1)\n",
      "Requirement already satisfied: jsonschema-specifications>=2023.03.6 in c:\\users\\dakota\\desktop\\personal projects\\coding\\python\\stage_zero\\kick classifier\\ac-venv\\lib\\site-packages (from jsonschema>=4.18.0->jupyterlab-server<3,>=2.22.1->notebook) (2023.12.1)\n",
      "Requirement already satisfied: attrs>=22.2.0 in c:\\users\\dakota\\desktop\\personal projects\\coding\\python\\stage_zero\\kick classifier\\ac-venv\\lib\\site-packages (from jsonschema>=4.18.0->jupyterlab-server<3,>=2.22.1->notebook) (23.2.0)\n",
      "Requirement already satisfied: parso<0.9.0,>=0.8.3 in c:\\users\\dakota\\desktop\\personal projects\\coding\\python\\stage_zero\\kick classifier\\ac-venv\\lib\\site-packages (from jedi>=0.16->ipython>=6.1.0->ipywidgets->jupyter) (0.8.3)\n",
      "Requirement already satisfied: asttokens>=2.1.0 in c:\\users\\dakota\\desktop\\personal projects\\coding\\python\\stage_zero\\kick classifier\\ac-venv\\lib\\site-packages (from stack-data->ipython>=6.1.0->ipywidgets->jupyter) (2.4.1)\n",
      "Requirement already satisfied: executing>=1.2.0 in c:\\users\\dakota\\desktop\\personal projects\\coding\\python\\stage_zero\\kick classifier\\ac-venv\\lib\\site-packages (from stack-data->ipython>=6.1.0->ipywidgets->jupyter) (2.0.1)\n",
      "Requirement already satisfied: pure-eval in c:\\users\\dakota\\desktop\\personal projects\\coding\\python\\stage_zero\\kick classifier\\ac-venv\\lib\\site-packages (from stack-data->ipython>=6.1.0->ipywidgets->jupyter) (0.2.2)\n",
      "Requirement already satisfied: cffi>=1.0.1 in c:\\users\\dakota\\desktop\\personal projects\\coding\\python\\stage_zero\\kick classifier\\ac-venv\\lib\\site-packages (from argon2-cffi-bindings->argon2-cffi->jupyter-server<3,>=2.4.0->notebook) (1.16.0)\n",
      "Requirement already satisfied: pycparser in c:\\users\\dakota\\desktop\\personal projects\\coding\\python\\stage_zero\\kick classifier\\ac-venv\\lib\\site-packages (from cffi>=1.0.1->argon2-cffi-bindings->argon2-cffi->jupyter-server<3,>=2.4.0->notebook) (2.21)\n"
     ]
    },
    {
     "name": "stderr",
     "output_type": "stream",
     "text": [
      "WARNING: You are using pip version 20.2.3; however, version 23.3.2 is available.\n",
      "You should consider upgrading via the 'c:\\users\\dakota\\desktop\\personal projects\\coding\\python\\stage_zero\\kick classifier\\ac-venv\\scripts\\python.exe -m pip install --upgrade pip' command.\n"
     ]
    }
   ],
   "source": [
    "!pip install jupyter notebook\n",
    "!pip install tensorflow==2.11.1 tensorflow-io==0.31.0 matplotlib"
   ]
  },
  {
   "cell_type": "code",
   "execution_count": null,
   "id": "f9de8a54",
   "metadata": {},
   "outputs": [],
   "source": [
    "import os\n",
    "from matplotlib import pyplot as plt\n",
    "import tensorflow as tf \n",
    "import tensorflow_io as tfio\n",
    "from tensorflow.keras.models import Sequential\n",
    "from tensorflow.keras.layers import Conv2D, Dense, Flatten\n",
    "from tensorflow.keras.layers import Dropout, BatchNormalization"
   ]
  },
  {
   "cell_type": "markdown",
   "id": "e019ad23",
   "metadata": {},
   "source": [
    "#Finds available GPUs\n",
    "print(\"Num GPUs Available: \", len(tf.config.list_physical_devices('GPU')))"
   ]
  },
  {
   "cell_type": "code",
   "execution_count": 263,
   "id": "3c565f09-477d-47a7-a589-235170e87ca5",
   "metadata": {},
   "outputs": [],
   "source": [
    "#load waveform as an array\n",
    "def SampleToTensor(filename):\n",
    "    # Load encoded wav file\n",
    "    file_contents = tf.io.read_file(filename)\n",
    "    # Decode wav (tensors by channels) \n",
    "    wav, sample_rate = tf.audio.decode_wav(file_contents, desired_channels=1)\n",
    "    # Removes trailing axis\n",
    "    wav = tf.squeeze(wav, axis=-1)\n",
    "    sample_rate = tf.cast(sample_rate, dtype=tf.int64)\n",
    "    # Goes from 44100Hz to 16000hz - amplitude of the audio signal\n",
    "    wav = tfio.audio.resample(wav, rate_in=sample_rate, rate_out=16000)\n",
    "    return wav"
   ]
  },
  {
   "cell_type": "code",
   "execution_count": 264,
   "id": "ba4bff4a-cd4c-4147-b5b5-e62f0d4ae5f7",
   "metadata": {},
   "outputs": [],
   "source": [
    "#These store the directories for the positive and negative data for training the model\n",
    "POS = os.path.join('data', 'kick-samples')\n",
    "NEG = os.path.join('data', 'non-kick-samples')"
   ]
  },
  {
   "cell_type": "code",
   "execution_count": 13,
   "id": "ea0f83b6-d417-41c1-8a5c-b4bf85693e00",
   "metadata": {},
   "outputs": [
    {
     "ename": "NameError",
     "evalue": "name 'POS' is not defined",
     "output_type": "error",
     "traceback": [
      "\u001b[1;31m---------------------------------------------------------------------------\u001b[0m",
      "\u001b[1;31mNameError\u001b[0m                                 Traceback (most recent call last)",
      "Cell \u001b[1;32mIn[13], line 1\u001b[0m\n\u001b[1;32m----> 1\u001b[0m pos \u001b[38;5;241m=\u001b[39m tf\u001b[38;5;241m.\u001b[39mdata\u001b[38;5;241m.\u001b[39mDataset\u001b[38;5;241m.\u001b[39mlist_files(\u001b[43mPOS\u001b[49m\u001b[38;5;241m+\u001b[39m\u001b[38;5;124m'\u001b[39m\u001b[38;5;124m\\\u001b[39m\u001b[38;5;124m*.wav\u001b[39m\u001b[38;5;124m'\u001b[39m)\n\u001b[0;32m      2\u001b[0m neg \u001b[38;5;241m=\u001b[39m tf\u001b[38;5;241m.\u001b[39mdata\u001b[38;5;241m.\u001b[39mDataset\u001b[38;5;241m.\u001b[39mlist_files(NEG\u001b[38;5;241m+\u001b[39m\u001b[38;5;124m'\u001b[39m\u001b[38;5;124m\\\u001b[39m\u001b[38;5;124m*.wav\u001b[39m\u001b[38;5;124m'\u001b[39m)\n",
      "\u001b[1;31mNameError\u001b[0m: name 'POS' is not defined"
     ]
    }
   ],
   "source": [
    "#These are creating the TensorFlow datasets from the .wav files stored in the directories\n",
    "pos = tf.data.Dataset.list_files(POS+'\\*.wav')\n",
    "neg = tf.data.Dataset.list_files(NEG+'\\*.wav')"
   ]
  },
  {
   "cell_type": "code",
   "execution_count": 14,
   "id": "fafbd45f-d2b6-4ae0-8fb8-3775268eac41",
   "metadata": {},
   "outputs": [
    {
     "ename": "NameError",
     "evalue": "name 'pos' is not defined",
     "output_type": "error",
     "traceback": [
      "\u001b[1;31m---------------------------------------------------------------------------\u001b[0m",
      "\u001b[1;31mNameError\u001b[0m                                 Traceback (most recent call last)",
      "Cell \u001b[1;32mIn[14], line 1\u001b[0m\n\u001b[1;32m----> 1\u001b[0m positives \u001b[38;5;241m=\u001b[39m tf\u001b[38;5;241m.\u001b[39mdata\u001b[38;5;241m.\u001b[39mDataset\u001b[38;5;241m.\u001b[39mzip((\u001b[43mpos\u001b[49m, tf\u001b[38;5;241m.\u001b[39mdata\u001b[38;5;241m.\u001b[39mDataset\u001b[38;5;241m.\u001b[39mfrom_tensor_slices(tf\u001b[38;5;241m.\u001b[39mones(\u001b[38;5;28mlen\u001b[39m(pos)))))\n\u001b[0;32m      2\u001b[0m negatives \u001b[38;5;241m=\u001b[39m tf\u001b[38;5;241m.\u001b[39mdata\u001b[38;5;241m.\u001b[39mDataset\u001b[38;5;241m.\u001b[39mzip((neg, tf\u001b[38;5;241m.\u001b[39mdata\u001b[38;5;241m.\u001b[39mDataset\u001b[38;5;241m.\u001b[39mfrom_tensor_slices(tf\u001b[38;5;241m.\u001b[39mzeros(\u001b[38;5;28mlen\u001b[39m(neg)))))\n\u001b[0;32m      3\u001b[0m data \u001b[38;5;241m=\u001b[39m positives\u001b[38;5;241m.\u001b[39mconcatenate(negatives)\n",
      "\u001b[1;31mNameError\u001b[0m: name 'pos' is not defined"
     ]
    }
   ],
   "source": [
    "#This is mixing up the positive and negative datasets into one dataset called \"data\".\n",
    "positives = tf.data.Dataset.zip((pos, tf.data.Dataset.from_tensor_slices(tf.ones(len(pos)))))\n",
    "negatives = tf.data.Dataset.zip((neg, tf.data.Dataset.from_tensor_slices(tf.zeros(len(neg)))))\n",
    "data = positives.concatenate(negatives)"
   ]
  },
  {
   "cell_type": "code",
   "execution_count": 267,
   "id": "153fde85-8385-456a-b52a-f0f5e3b8a113",
   "metadata": {},
   "outputs": [],
   "source": [
    "# Initialize an empty list to store lengths of audio files\n",
    "lengths = []\n",
    "\n",
    "# Loop over each file in the 'kick-samples' directory\n",
    "for file in os.listdir(os.path.join('data', 'kick-samples')):\n",
    "\n",
    "    # Convert each audio file to a tensor waveform using the SampleToTensor function\n",
    "    tensor_wave = SampleToTensor(os.path.join('data', 'kick-samples', file))\n",
    "\n",
    "    # Append the length of the tensor (i.e., the length of the audio file) to the 'lengths' list\n",
    "    lengths.append(len(tensor_wave))\n",
    "\n",
    "# At the end, 'lengths' list contains the lengths of all audio files in the 'kick-samples' directory"
   ]
  },
  {
   "cell_type": "code",
   "execution_count": 268,
   "id": "bb115ddd-159c-4b01-a895-38482135204f",
   "metadata": {},
   "outputs": [
    {
     "data": {
      "text/plain": [
       "<tf.Tensor: shape=(), dtype=int32, numpy=52486>"
      ]
     },
     "execution_count": 268,
     "metadata": {},
     "output_type": "execute_result"
    }
   ],
   "source": [
    "#to visualize the mean\n",
    "tf.math.reduce_mean(lengths)"
   ]
  },
  {
   "cell_type": "code",
   "execution_count": 269,
   "id": "246c5345-6e14-4f81-a28f-e3fd0a2f0a0c",
   "metadata": {},
   "outputs": [
    {
     "data": {
      "text/plain": [
       "<tf.Tensor: shape=(), dtype=int32, numpy=15360>"
      ]
     },
     "execution_count": 269,
     "metadata": {},
     "output_type": "execute_result"
    }
   ],
   "source": [
    "#to visualize the min\n",
    "tf.math.reduce_min(lengths)"
   ]
  },
  {
   "cell_type": "code",
   "execution_count": 270,
   "id": "69f0f7a1-b2f8-4269-b981-4c47cbb36d7b",
   "metadata": {},
   "outputs": [
    {
     "data": {
      "text/plain": [
       "<tf.Tensor: shape=(), dtype=int32, numpy=64000>"
      ]
     },
     "execution_count": 270,
     "metadata": {},
     "output_type": "execute_result"
    }
   ],
   "source": [
    "#to visualize the max\n",
    "tf.math.reduce_max(lengths)"
   ]
  },
  {
   "cell_type": "code",
   "execution_count": null,
   "id": "2f988732",
   "metadata": {},
   "outputs": [],
   "source": []
  },
  {
   "cell_type": "code",
   "execution_count": 271,
   "id": "46bb2b54-5e87-4cee-8532-d76586d8d2fc",
   "metadata": {},
   "outputs": [],
   "source": [
    "\"\"\"\n",
    "    This function takes a file path and a label as input. It reads the audio file at the given path and converts it into a waveform.\n",
    "    The waveform is then truncated or zero-padded to a fixed length of 48000. \n",
    "    A Short-Time Fourier Transform (STFT) is applied to the waveform to convert it into a spectrogram.\n",
    "    The absolute values of the spectrogram are taken to ensure it is real-valued, and an extra dimension is added to the spectrogram tensor for compatibility with Conv2D layers.\n",
    "    The function returns the processed spectrogram and the original label.\n",
    "\"\"\"\n",
    "\n",
    "def SampleSpectrogram(file_path, label):\n",
    "    wav = SampleToTensor(file_path)\n",
    "    wav = wav[:48000]\n",
    "    zero_padding = tf.zeros([48000] - tf.shape(wav), dtype=tf.float32)\n",
    "    # Ensure the padding is added at the end of the tensor\n",
    "    wav = tf.concat([wav, zero_padding],0)\n",
    "    spectrogram = tf.signal.stft(wav, frame_length=320, frame_step=32)\n",
    "    spectrogram = tf.abs(spectrogram)\n",
    "    spectrogram = tf.expand_dims(spectrogram, axis=2)\n",
    "    return spectrogram, label"
   ]
  },
  {
   "cell_type": "code",
   "execution_count": 272,
   "id": "2939c14b-effd-444e-b7d0-ae7b7ea0e313",
   "metadata": {},
   "outputs": [],
   "source": [
    "#grabs a random dataset to test a spectrogram on\n",
    "filepath, label = positives.shuffle(buffer_size=10000).as_numpy_iterator().next()\n",
    "\n",
    "#runs the sample through the SampleSpectrogram function\n",
    "spectrogram, label = SampleSpectrogram(filepath, label)"
   ]
  },
  {
   "cell_type": "code",
   "execution_count": 273,
   "id": "da5a1611-5021-4224-b35f-f9a399fe5063",
   "metadata": {},
   "outputs": [],
   "source": []
  },
  {
   "cell_type": "code",
   "execution_count": 274,
   "id": "76875abf-449c-4aaf-badb-51c5f7995d1f",
   "metadata": {},
   "outputs": [
    {
     "data": {
      "image/png": "[encoded data removed]",
      "text/plain": [
       "<Figure size 3000x2000 with 1 Axes>"
      ]
     },
     "metadata": {},
     "output_type": "display_data"
    }
   ],
   "source": [
    "#visualizes the spectrogram\n",
    "plt.figure(figsize=(30,20))\n",
    "plt.imshow(tf.transpose(spectrogram)[0])\n",
    "plt.show()"
   ]
  },
  {
   "cell_type": "code",
   "execution_count": 275,
   "id": "6a907efc-675c-435c-a50f-741369d07d4f",
   "metadata": {},
   "outputs": [
    {
     "name": "stdout",
     "output_type": "stream",
     "text": [
      "WARNING:tensorflow:Using a while_loop for converting IO>AudioResample cause there is no registered converter for this op.\n"
     ]
    }
   ],
   "source": [
    "#tensorflow data pipeline\n",
    "#\n",
    "# The 'map' function applies the 'SampleSpectrogram' function to each element in the 'data' dataset.\n",
    "data = data.map(lambda x, y: SampleSpectrogram(x, y))\n",
    "\n",
    "# The 'cache' function stores the dataset in memory for faster access during training.\n",
    "data = data.cache()\n",
    "\n",
    "# The 'shuffle' function randomly shuffles the elements of the dataset to ensure that the model does not learn any inherent order in the data.\n",
    "data = data.shuffle(buffer_size=1000)\n",
    "\n",
    "# The 'batch' function groups the dataset into batches of 16 for efficient training.\n",
    "data = data.batch(16)\n",
    "\n",
    "# The 'prefetch' function preloads the next 8 batches while the current batch is being processed to optimize training speed.\n",
    "data = data.prefetch(8)"
   ]
  },
  {
   "cell_type": "code",
   "execution_count": 276,
   "id": "3823a68a",
   "metadata": {},
   "outputs": [
    {
     "data": {
      "text/plain": [
       "47"
      ]
     },
     "execution_count": 276,
     "metadata": {},
     "output_type": "execute_result"
    }
   ],
   "source": [
    "len(data)"
   ]
  },
  {
   "cell_type": "code",
   "execution_count": 277,
   "id": "f4793b01-7432-49dd-8426-8cd220526098",
   "metadata": {},
   "outputs": [],
   "source": [
    "#split into training and testing partitions based on 70%-30% division\n",
    "num_samples = tf.data.experimental.cardinality(data).numpy()\n",
    "num_train_samples = int(0.7 * num_samples)\n",
    "num_test_samples = num_samples - num_train_samples\n",
    "\n",
    "train = data.take(num_train_samples)\n",
    "test = data.skip(num_train_samples).take(num_test_samples)"
   ]
  },
  {
   "cell_type": "code",
   "execution_count": 278,
   "id": "9a22e587",
   "metadata": {},
   "outputs": [
    {
     "data": {
      "text/plain": [
       "15"
      ]
     },
     "execution_count": 278,
     "metadata": {},
     "output_type": "execute_result"
    }
   ],
   "source": [
    "len(test)"
   ]
  },
  {
   "cell_type": "code",
   "execution_count": 279,
   "id": "c946384b",
   "metadata": {},
   "outputs": [
    {
     "name": "stdout",
     "output_type": "stream",
     "text": [
      "Number of test samples: 32\n"
     ]
    }
   ],
   "source": [
    "# Calculate the total number of test samples in the training dataset and print the result\n",
    "num_test_samples = tf.data.experimental.cardinality(train).numpy()\n",
    "print(f\"Number of test samples: {num_test_samples}\")"
   ]
  },
  {
   "cell_type": "code",
   "execution_count": 280,
   "id": "f7233b0d-b390-4690-abac-dd87ab6a0a5b",
   "metadata": {},
   "outputs": [],
   "source": []
  },
  {
   "cell_type": "code",
   "execution_count": 281,
   "id": "95c6a03a",
   "metadata": {},
   "outputs": [],
   "source": [
    "\"\"\"\n",
    "    This function takes a file path and a label as input. It reads the audio file at the given path and converts it into a waveform.\n",
    "    The waveform is then truncated or zero-padded to a fixed length of 14974. \n",
    "    A Short-Time Fourier Transform (STFT) is applied to the waveform to convert it into a spectrogram.\n",
    "    The absolute values of the spectrogram are taken to ensure it is real-valued, and an extra dimension is added to the spectrogram tensor for compatibility with Conv2D layers.\n",
    "    The function returns the processed spectrogram and the original label.\n",
    "\"\"\"\n",
    "\n",
    "def SampleSpectrogram(file_path, label):\n",
    "    file_path = tf.py_function(func=lambda x: x.numpy().decode('utf-8'), inp=[file_path], Tout=tf.string)\n",
    "    wav = SampleToTensor(file_path)\n",
    "    wav_shape = tf.shape(wav)[0]\n",
    "    zero_padding = tf.zeros([14974] - wav_shape, dtype=tf.float32)\n",
    "    # Ensure the padding is added at the end of the tensor\n",
    "    wav = tf.concat([wav, zero_padding],0)\n",
    "    spectrogram = tf.signal.stft(wav, frame_length=320, frame_step=32)\n",
    "    spectrogram = tf.abs(spectrogram)\n",
    "    spectrogram = tf.expand_dims(spectrogram, axis=2)\n",
    "    return spectrogram, label\n"
   ]
  },
  {
   "cell_type": "code",
   "execution_count": 5,
   "id": "b6e31382-7ff5-407e-847b-8e112ddb6edd",
   "metadata": {},
   "outputs": [],
   "source": [
    "\n"
   ]
  },
  {
   "cell_type": "code",
   "execution_count": 283,
   "id": "070cb436-763d-4129-9202-7e8487790044",
   "metadata": {},
   "outputs": [],
   "source": [
    "#sequential model - V1 Model\n",
    "model = Sequential()\n",
    "model.add(Conv2D(16, (3,3), activation='relu', input_shape=(1491, 257,1)))\n",
    "model.add(Conv2D(16, (3,3), activation='relu'))\n",
    "model.add(Flatten())\n",
    "model.add(Dense(128, activation='relu'))\n",
    "model.add(Dense(1, activation='sigmoid'))\n"
   ]
  },
  {
   "cell_type": "code",
   "execution_count": 6,
   "id": "2409f346",
   "metadata": {},
   "outputs": [],
   "source": [
    "#sequential model - V2 Model\n",
    "model = Sequential()\n",
    "model.add(Conv2D(8, (3,3), activation='relu', input_shape=(1491, 257,1)))\n",
    "model.add(BatchNormalization())\n",
    "model.add(Conv2D(8, (3,3), activation='relu'))\n",
    "model.add(BatchNormalization())\n",
    "model.add(Flatten())\n",
    "model.add(Dense(64, activation='relu'))\n",
    "model.add(Dropout(0.5))\n",
    "model.add(Dense(1, activation='sigmoid'))"
   ]
  },
  {
   "cell_type": "code",
   "execution_count": 7,
   "id": "83a1b6cb-d731-45c2-984e-d055a880d7e0",
   "metadata": {},
   "outputs": [],
   "source": [
    "#defines the compiler for the neural network\n",
    "model.compile('Adam', loss='BinaryCrossentropy', metrics=[tf.keras.metrics.Recall(),tf.keras.metrics.Precision()])"
   ]
  },
  {
   "cell_type": "code",
   "execution_count": 8,
   "id": "76f61ab8-a20d-4c70-a47f-d549a7c8c743",
   "metadata": {
    "scrolled": true
   },
   "outputs": [
    {
     "name": "stdout",
     "output_type": "stream",
     "text": [
      "Model: \"sequential\"\n",
      "_________________________________________________________________\n",
      " Layer (type)                Output Shape              Param #   \n",
      "=================================================================\n",
      " conv2d (Conv2D)             (None, 1489, 255, 8)      80        \n",
      "                                                                 \n",
      " batch_normalization (BatchN  (None, 1489, 255, 8)     32        \n",
      " ormalization)                                                   \n",
      "                                                                 \n",
      " conv2d_1 (Conv2D)           (None, 1487, 253, 8)      584       \n",
      "                                                                 \n",
      " batch_normalization_1 (Batc  (None, 1487, 253, 8)     32        \n",
      " hNormalization)                                                 \n",
      "                                                                 \n",
      " flatten (Flatten)           (None, 3009688)           0         \n",
      "                                                                 \n",
      " dense (Dense)               (None, 64)                192620096 \n",
      "                                                                 \n",
      " dropout (Dropout)           (None, 64)                0         \n",
      "                                                                 \n",
      " dense_1 (Dense)             (None, 1)                 65        \n",
      "                                                                 \n",
      "=================================================================\n",
      "Total params: 192,620,889\n",
      "Trainable params: 192,620,857\n",
      "Non-trainable params: 32\n",
      "_________________________________________________________________\n"
     ]
    }
   ],
   "source": [
    "#shows summary of the model\n",
    "model.summary()"
   ]
  },
  {
   "cell_type": "code",
   "execution_count": null,
   "id": "187d3dd9-ba58-4c29-b7e6-73a0fc693b07",
   "metadata": {},
   "outputs": [],
   "source": [
    "from tensorflow.keras.models import load_model\n",
    "\n",
    "# Load the model\n",
    "loaded_model = load_model('path_to_my_model.h5')  "
   ]
  },
  {
   "cell_type": "code",
   "execution_count": 286,
   "id": "4f58c9de-bd64-4691-a14c-dad4bb6ea866",
   "metadata": {},
   "outputs": [
    {
     "name": "stdout",
     "output_type": "stream",
     "text": [
      "Epoch 1/4\n",
      "32/32 [==============================] - 4744s 149s/step - loss: 0.8514 - recall_5: 0.9161 - precision_5: 0.8973 - val_loss: 0.2092 - val_recall_5: 0.9839 - val_precision_5: 0.9839\n",
      "Epoch 2/4\n",
      " 9/32 [=======>......................] - ETA: 52:16 - loss: 0.1576 - recall_5: 0.9750 - precision_5: 1.0000"
     ]
    }
   ],
   "source": [
    "#for training the model... epochs the number of training iterations\n",
    "hist = model.fit(train, epochs=4, validation_data=test)"
   ]
  },
  {
   "cell_type": "code",
   "execution_count": null,
   "id": "a7cbbab3-eac8-42c6-ae9a-e2320703f980",
   "metadata": {},
   "outputs": [],
   "source": [
    "# Save the model\n",
    "model.save('edm_kick_v2.h5')"
   ]
  },
  {
   "cell_type": "code",
   "execution_count": null,
   "id": "2c95f405",
   "metadata": {},
   "outputs": [],
   "source": [
    "#prints the training history keys\n",
    "print(hist.history.keys())"
   ]
  },
  {
   "cell_type": "code",
   "execution_count": 3,
   "id": "a14d2436-86d6-48b0-9751-9ea35cc1fe66",
   "metadata": {},
   "outputs": [
    {
     "ename": "NameError",
     "evalue": "name 'hist' is not defined",
     "output_type": "error",
     "traceback": [
      "\u001b[1;31m---------------------------------------------------------------------------\u001b[0m",
      "\u001b[1;31mNameError\u001b[0m                                 Traceback (most recent call last)",
      "Cell \u001b[1;32mIn[3], line 2\u001b[0m\n\u001b[0;32m      1\u001b[0m plt\u001b[38;5;241m.\u001b[39mtitle(\u001b[38;5;124m'\u001b[39m\u001b[38;5;124mLoss\u001b[39m\u001b[38;5;124m'\u001b[39m)\n\u001b[1;32m----> 2\u001b[0m plt\u001b[38;5;241m.\u001b[39mplot(\u001b[43mhist\u001b[49m\u001b[38;5;241m.\u001b[39mhistory[\u001b[38;5;124m'\u001b[39m\u001b[38;5;124mloss\u001b[39m\u001b[38;5;124m'\u001b[39m], \u001b[38;5;124m'\u001b[39m\u001b[38;5;124mr\u001b[39m\u001b[38;5;124m'\u001b[39m)\n\u001b[0;32m      3\u001b[0m plt\u001b[38;5;241m.\u001b[39mplot(hist\u001b[38;5;241m.\u001b[39mhistory[\u001b[38;5;124m'\u001b[39m\u001b[38;5;124mval_loss\u001b[39m\u001b[38;5;124m'\u001b[39m], \u001b[38;5;124m'\u001b[39m\u001b[38;5;124mb\u001b[39m\u001b[38;5;124m'\u001b[39m)\n\u001b[0;32m      4\u001b[0m plt\u001b[38;5;241m.\u001b[39mshow()\n",
      "\u001b[1;31mNameError\u001b[0m: name 'hist' is not defined"
     ]
    },
    {
     "data": {
      "image/png": "[encoded data removed]",
      "text/plain": [
       "<Figure size 640x480 with 1 Axes>"
      ]
     },
     "metadata": {},
     "output_type": "display_data"
    }
   ],
   "source": [
    "plt.title('Loss')\n",
    "plt.plot(hist.history['loss'], 'r')\n",
    "plt.plot(hist.history['val_loss'], 'b')\n",
    "plt.show()"
   ]
  },
  {
   "cell_type": "code",
   "execution_count": null,
   "id": "81b11736-9c9e-41c1-982e-32770c474a33",
   "metadata": {},
   "outputs": [],
   "source": [
    "plt.title('Precision')\n",
    "plt.plot(hist.history['precision_4'], 'r')\n",
    "plt.plot(hist.history['val_precision_4'], 'b')\n",
    "plt.show()"
   ]
  },
  {
   "cell_type": "code",
   "execution_count": null,
   "id": "cb2609a8",
   "metadata": {},
   "outputs": [],
   "source": []
  },
  {
   "cell_type": "code",
   "execution_count": null,
   "id": "d40a288c-3d01-42b5-a914-364dacbf2bc2",
   "metadata": {},
   "outputs": [],
   "source": [
    "plt.title('Recall')\n",
    "plt.plot(hist.history['recall_4'], 'r')\n",
    "plt.plot(hist.history['val_recall_4'], 'b')\n",
    "plt.show()"
   ]
  },
  {
   "cell_type": "code",
   "execution_count": 15,
   "id": "8771586a-7e04-4346-87b1-db67bc737382",
   "metadata": {},
   "outputs": [
    {
     "ename": "NameError",
     "evalue": "name 'hist' is not defined",
     "output_type": "error",
     "traceback": [
      "\u001b[1;31m---------------------------------------------------------------------------\u001b[0m",
      "\u001b[1;31mNameError\u001b[0m                                 Traceback (most recent call last)",
      "Cell \u001b[1;32mIn[15], line 1\u001b[0m\n\u001b[1;32m----> 1\u001b[0m \u001b[43mhist\u001b[49m\u001b[38;5;241m.\u001b[39mhistory\n",
      "\u001b[1;31mNameError\u001b[0m: name 'hist' is not defined"
     ]
    }
   ],
   "source": [
    "# hist.history returns a dictionary storing the training loss values and metrics values at each epoch. \n",
    "# If validation is performed, it also includes validation loss values and validation metrics values.\n",
    "hist.history"
   ]
  },
  {
   "cell_type": "code",
   "execution_count": null,
   "id": "f3c86ce3-1a5c-44b5-9478-f4210f5509cf",
   "metadata": {},
   "outputs": [],
   "source": [
    "#grabs one test sample to test against the trained neural network\n",
    "X_test, y_test = test.as_numpy_iterator().next()\n"
   ]
  },
  {
   "cell_type": "code",
   "execution_count": null,
   "id": "8372e666-532d-43ef-b6b5-f61c320e03cb",
   "metadata": {},
   "outputs": [],
   "source": [
    "def load_mp3_16k_mono(filename):\n",
    "    \"\"\" Load a WAV file, convert it to a float tensor, resample to 16 kHz single-channel audio. \"\"\"\n",
    "    res = tfio.audio.AudioIOTensor(filename)\n",
    "    # Convert to tensor and combine channels \n",
    "    tensor = res.to_tensor()\n",
    "    tensor = tf.math.reduce_sum(tensor, axis=1) / 2 \n",
    "    # Extract sample rate and cast\n",
    "    sample_rate = res.rate\n",
    "    sample_rate = tf.cast(sample_rate, dtype=tf.int64)\n",
    "    # Resample to 16 kHz\n",
    "    wav = tfio.audio.resample(tensor, rate_in=sample_rate, rate_out=16000)\n",
    "    return wav"
   ]
  },
  {
   "cell_type": "code",
   "execution_count": null,
   "id": "1fb99f04-c615-4694-a5aa-08e71d7983e4",
   "metadata": {},
   "outputs": [],
   "source": [
    "#defines var for song path\n",
    "song = os.path.join('data', 'full-song', 'song.mp3')"
   ]
  },
  {
   "cell_type": "code",
   "execution_count": null,
   "id": "7899a0c7-ab7d-47b3-a10d-734c19fcc550",
   "metadata": {},
   "outputs": [],
   "source": [
    "#converts song to tensor\n",
    "wav = load_mp3_16k_mono(song)"
   ]
  },
  {
   "cell_type": "code",
   "execution_count": null,
   "id": "335c8fb8-d863-4d3e-bfde-b8715267bc0d",
   "metadata": {},
   "outputs": [],
   "source": [
    "#converts song to slices... same size as the training data... len(audio_slices) gives the total number of clips\n",
    "audio_slices = tf.keras.utils.timeseries_dataset_from_array(wav, wav, sequence_length=48000, sequence_stride=48000, batch_size=1)"
   ]
  },
  {
   "cell_type": "code",
   "execution_count": null,
   "id": "09f0670f-2078-4d3e-8e26-fcee057b0fc6",
   "metadata": {},
   "outputs": [],
   "source": [
    "# This line of code retrieves the next item from the audio_slices iterator.\n",
    "# 'samples' will contain the audio data for the next slice, and 'index' will contain the corresponding index of that slice.\n",
    "samples, index = audio_slices.as_numpy_iterator().next()"
   ]
  },
  {
   "cell_type": "code",
   "execution_count": null,
   "id": "23229955-41d0-43b0-83e4-7ae1d875c40e",
   "metadata": {},
   "outputs": [],
   "source": [
    "#converts song to spectrogram\n",
    "def preprocess_song(sample, index):\n",
    "    sample = sample[0]\n",
    "    zero_padding = tf.zeros([48000] - tf.shape(sample), dtype=tf.float32)\n",
    "    wav = tf.concat([zero_padding, sample],0)\n",
    "    spectrogram = tf.signal.stft(wav, frame_length=320, frame_step=32)\n",
    "    spectrogram = tf.abs(spectrogram)\n",
    "    spectrogram = tf.expand_dims(spectrogram, axis=2)\n",
    "    return spectrogram"
   ]
  },
  {
   "cell_type": "code",
   "execution_count": null,
   "id": "9851b37a-12cd-47a6-ac38-f2326fd74635",
   "metadata": {},
   "outputs": [],
   "source": [
    "#Converts longer clips into windows and makes predictions\n",
    "audio_slices = tf.keras.utils.timeseries_dataset_from_array(wav, wav, sequence_length=48000, sequence_stride=48000, batch_size=1)\n",
    "audio_slices = audio_slices.map(preprocess_song)\n",
    "audio_slices = audio_slices.batch(64) #og was 64 here"
   ]
  },
  {
   "cell_type": "code",
   "execution_count": null,
   "id": "8e3d92e2-7c8b-45e2-86fc-3a4d878167e0",
   "metadata": {},
   "outputs": [],
   "source": [
    "# The first line uses the trained model to make predictions on the audio slices. \n",
    "# The model returns a probability for each slice, indicating how likely it thinks that slice contains a kick drum sound.\n",
    "# The second line then converts these probabilities into binary predictions.\n",
    "# If the model's probability is greater than 0.5 (indicating it's more likely than not that the slice contains a kick drum), \n",
    "# the prediction is converted to 1 (representing a positive prediction). \n",
    "# Otherwise, the prediction is converted to 0 (representing a negative prediction).\n",
    "yhat = model.predict(audio_slices)\n",
    "#change the 0.X number to increase the level of confidence to log a prediction\n",
    "yhat = [1 if prediction > 0.5 else 0 for prediction in yhat]"
   ]
  },
  {
   "cell_type": "code",
   "execution_count": null,
   "id": "10bd258d",
   "metadata": {},
   "outputs": [],
   "source": [
    "# Initialize an empty list to store frame numbers\n",
    "frame_numbers = []\n",
    "\n",
    "# Enumerate over the audio_slices. 'i' is the index and 'batch' is the current batch of audio slices.\n",
    "for i, batch in enumerate(audio_slices):\n",
    "    # Use the trained model to make predictions on the current batch of audio slices\n",
    "    predictions = model.predict(batch)\n",
    "    \n",
    "    # Enumerate over the predictions. 'j' is the index and 'prediction' is the current prediction.\n",
    "    for j, prediction in enumerate(predictions):\n",
    "        # If the prediction is greater than 0.5 (indicating the model thinks the slice likely contains a kick drum)\n",
    "        if prediction > 0.5:\n",
    "            # Calculate the frame number corresponding to the current slice\n",
    "            # This is done by multiplying the batch index by the number of predictions per batch and adding the index of the current prediction\n",
    "            # The result is then multiplied by 48000 to convert from slice index to frame number\n",
    "            frame_number = (i * len(predictions) + j) * 48000\n",
    "            \n",
    "            # Append the frame number to the list of frame numbers\n",
    "            frame_numbers.append(frame_number)\n",
    "\n",
    "# Print the list of frame numbers\n",
    "print(frame_numbers)"
   ]
  },
  {
   "cell_type": "code",
   "execution_count": null,
   "id": "7cfc1a42-7dc5-4bbf-adc2-8031d675f3f4",
   "metadata": {},
   "outputs": [],
   "source": [
    "#prints number of occurences\n",
    "tf.math.reduce_sum(yhat)"
   ]
  },
  {
   "cell_type": "code",
   "execution_count": null,
   "id": "88b2138f",
   "metadata": {},
   "outputs": [],
   "source": []
  },
  {
   "cell_type": "code",
   "execution_count": null,
   "id": "4ecdcc02-24c4-4d3d-91b3-0e64cc8ff470",
   "metadata": {},
   "outputs": [],
   "source": [
    "#loop over songs in file path and make predictions... not fully implemented yet.\n",
    "results = {}\n",
    "for file in os.listdir(os.path.join('data', 'full-song')):\n",
    "    FILEPATH = os.path.join('data','full-song', file)\n",
    "    \n",
    "    wav = SampleToTensor(FILEPATH)\n",
    "    audio_slices = tf.keras.utils.timeseries_dataset_from_array(wav, wav, sequence_length=48000, sequence_stride=48000, batch_size=1)\n",
    "    audio_slices = audio_slices.map(preprocess_song)\n",
    "    audio_slices = audio_slices.batch(64)\n",
    "    \n",
    "    yhat = model.predict(audio_slices)\n",
    "    \n",
    "    results[file] = yhat"
   ]
  },
  {
   "cell_type": "code",
   "execution_count": null,
   "id": "53813ca9-2370-4d56-bc2a-dc3f162aebb3",
   "metadata": {},
   "outputs": [],
   "source": [
    "results"
   ]
  },
  {
   "cell_type": "code",
   "execution_count": null,
   "id": "e697bf24-dfab-4e23-adce-3260d6d38b66",
   "metadata": {},
   "outputs": [],
   "source": []
  }
 ],
 "metadata": {
  "kernelspec": {
   "display_name": "Python 3 (ipykernel)",
   "language": "python",
   "name": "python3"
  },
  "language_info": {
   "codemirror_mode": {
    "name": "ipython",
    "version": 3
   },
   "file_extension": ".py",
   "mimetype": "text/x-python",
   "name": "python",
   "nbconvert_exporter": "python",
   "pygments_lexer": "ipython3",
   "version": "3.8.10"
  }
 },
 "nbformat": 4,
 "nbformat_minor": 5
}
